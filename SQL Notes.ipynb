{
 "cells": [
  {
   "cell_type": "markdown",
   "metadata": {},
   "source": [
    "## Subqueries Part II\n",
    "In the first subquery you wrote, you created a table that you could then query again in the **FROM** statement. However, if you are only returning a single value, you might use that value in a logical statement like **WHERE, HAVING**, or even **SELECT** - the value could be nested within a **CASE** statement.\n",
    "\n",
    "On the next concept, we will work through this example, and then you will get some practice on answering some questions on your own.\n",
    "\n",
    "### Expert Tip\n",
    "Note that you should not include an alias when you write a subquery in a **conditional statement**. This is because the subquery is treated as an individual value (or set of values in the **IN** case) rather than as a table.\n",
    "\n",
    "Also, notice the query here compared a single value. If we returned an entire column **IN** would need to be used to perform a logical argument. If we are returning an entire table, then we must use an ALIAS for the table, and perform additional logic on the entire table."
   ]
  },
  {
   "cell_type": "markdown",
   "metadata": {},
   "source": [
    "## Common SQL Interview Concepts\n",
    "1. **CASE WHEN**\n",
    "2. **SELF JOIN**\n",
    "3. **DISTINCT** and **GROUP BY**\n",
    "4. **LEFT** vs **OUTER JOIN**\n",
    "5. **UNION**\n",
    "6. **SUM** and **COUNT**\n",
    "7. **DATETIME** manipulation\n",
    "8. String formatting\n",
    "    * **LEFT** & **RIGHT** pulls a specified number of characters for each row in a specified column starting at the beginning (or from the left/right). As you saw here, you can pull the first three digits of a phone number using **LEFT(phone_number, 3)**.\n",
    "  \n",
    "    * **LENGTH** provides the number of characters for each row of a specified column. Here, you saw that we could use this to get the length of each phone number as **LENGTH(phone_number)**.\n",
    "    \n",
    "    * **CONCAT** = **||**\n",
    "    \n",
    "    * **COALESCE** replace NULL values.\n",
    "9. Window function like **rank** and **row**\n",
    "    * **ROW_NUMBER()**\n",
    "    * **RANK()**\n",
    "    * **WINDOW** goes between **WHERE** and **GROUP BY**\n",
    "10. Subqueries\n",
    "11. **WITH** - use for temp tables that takes long time to run\n"
   ]
  },
  {
   "cell_type": "markdown",
   "metadata": {},
   "source": [
    "## SQL data cleaning functions\n",
    "* **LEFT** & **RIGHT**\n",
    "  pulls a specified number of characters for each row in a specified column starting at the beginning (or from the left/right). As you saw here, you can pull the first three digits of a phone number using **LEFT(phone_number, 3)**.\n",
    "  \n",
    "* **LENGTH** provides the number of characters for each row of a specified column. Here, you saw that we could use this to get the length of each phone number as **LENGTH(phone_number)**."
   ]
  },
  {
   "cell_type": "markdown",
   "metadata": {},
   "source": [
    "## Performence Tuning\n",
    "\n",
    "* Use subqueries with less lines to increase the speed"
   ]
  },
  {
   "cell_type": "code",
   "execution_count": null,
   "metadata": {},
   "outputs": [],
   "source": []
  }
 ],
 "metadata": {
  "kernelspec": {
   "display_name": "Python 3",
   "language": "python",
   "name": "python3"
  },
  "language_info": {
   "codemirror_mode": {
    "name": "ipython",
    "version": 3
   },
   "file_extension": ".py",
   "mimetype": "text/x-python",
   "name": "python",
   "nbconvert_exporter": "python",
   "pygments_lexer": "ipython3",
   "version": "3.7.6"
  }
 },
 "nbformat": 4,
 "nbformat_minor": 4
}
